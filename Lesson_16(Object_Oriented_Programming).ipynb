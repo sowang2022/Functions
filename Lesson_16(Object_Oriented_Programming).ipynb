{
  "nbformat": 4,
  "nbformat_minor": 0,
  "metadata": {
    "colab": {
      "name": "Lesson_16(Object Oriented Programming).ipynb",
      "provenance": [],
      "authorship_tag": "ABX9TyMEYBjk1fAzGw91EQM0gXYr",
      "include_colab_link": true
    },
    "kernelspec": {
      "name": "python3",
      "display_name": "Python 3"
    },
    "language_info": {
      "name": "python"
    }
  },
  "cells": [
    {
      "cell_type": "markdown",
      "metadata": {
        "id": "view-in-github",
        "colab_type": "text"
      },
      "source": [
        "<a href=\"https://colab.research.google.com/github/sowang2022/Functions/blob/main/Lesson_16(Object_Oriented_Programming).ipynb\" target=\"_parent\"><img src=\"https://colab.research.google.com/assets/colab-badge.svg\" alt=\"Open In Colab\"/></a>"
      ]
    },
    {
      "cell_type": "code",
      "execution_count": 3,
      "metadata": {
        "id": "tYnFyNkehIMt"
      },
      "outputs": [],
      "source": [
        "#OOP (classes)\n",
        "\n",
        "class Experiment(object):\n",
        "  #contructor method\n",
        "  def __init__(self,eType,dataN,status='ongoing'):\n",
        "    self.expType = eType\n",
        "    self.dataCount = dataN\n",
        "    self.expStatus = status\n",
        "\n",
        "  def increaseN(self,number):\n",
        "    self.dataCount += number\n",
        "\n",
        "  def changeExpStatus(self,status):\n",
        "    self.expStatus = status\n",
        "\n",
        "  def __str__(self):\n",
        "    return 'Experiment type: ' + self.expType +' has ' + str(self.dataCount) + ' data points.'\n"
      ]
    },
    {
      "cell_type": "code",
      "source": [
        "#myexperiment = Experiment('Brain',11450)\n",
        "\n",
        "\n",
        "\n",
        "#print(myexperiment)"
      ],
      "metadata": {
        "id": "wygkiJAqjnYh"
      },
      "execution_count": 7,
      "outputs": []
    },
    {
      "cell_type": "code",
      "source": [
        ""
      ],
      "metadata": {
        "id": "l3aOisWYj5ZA"
      },
      "execution_count": null,
      "outputs": []
    }
  ]
}