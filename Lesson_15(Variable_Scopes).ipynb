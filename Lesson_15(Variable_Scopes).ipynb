{
  "nbformat": 4,
  "nbformat_minor": 0,
  "metadata": {
    "colab": {
      "name": "Lesson_15(Variable Scopes).ipynb",
      "provenance": [],
      "authorship_tag": "ABX9TyOOpAFerTPrgXGJwDAhanD0",
      "include_colab_link": true
    },
    "kernelspec": {
      "name": "python3",
      "display_name": "Python 3"
    },
    "language_info": {
      "name": "python"
    }
  },
  "cells": [
    {
      "cell_type": "markdown",
      "metadata": {
        "id": "view-in-github",
        "colab_type": "text"
      },
      "source": [
        "<a href=\"https://colab.research.google.com/github/sowang2022/Functions/blob/main/Lesson_15(Variable_Scopes).ipynb\" target=\"_parent\"><img src=\"https://colab.research.google.com/assets/colab-badge.svg\" alt=\"Open In Colab\"/></a>"
      ]
    },
    {
      "cell_type": "code",
      "execution_count": null,
      "metadata": {
        "id": "zEXdc3ZRWwi4"
      },
      "outputs": [],
      "source": [
        "def funfun():\n",
        "  x = 7\n",
        "  y = 10\n",
        "  return y"
      ]
    },
    {
      "cell_type": "code",
      "source": [
        "y=funfun()\n",
        "print(y)"
      ],
      "metadata": {
        "colab": {
          "base_uri": "https://localhost:8080/"
        },
        "id": "ghPBHW42Xkqh",
        "outputId": "caeb8dfc-745e-4ad2-e794-30b94dbd0208"
      },
      "execution_count": null,
      "outputs": [
        {
          "output_type": "stream",
          "name": "stdout",
          "text": [
            "10\n"
          ]
        }
      ]
    },
    {
      "cell_type": "code",
      "source": [
        "def fz():\n",
        "  print(z)"
      ],
      "metadata": {
        "id": "K9cTl7RNXmun"
      },
      "execution_count": null,
      "outputs": []
    },
    {
      "cell_type": "code",
      "source": [
        "z = 3\n",
        "z"
      ],
      "metadata": {
        "colab": {
          "base_uri": "https://localhost:8080/"
        },
        "id": "_Vm_hLkXXoCV",
        "outputId": "92480f09-f0d9-494d-c0e9-67bb13b10026"
      },
      "execution_count": 9,
      "outputs": [
        {
          "output_type": "execute_result",
          "data": {
            "text/plain": [
              "3"
            ]
          },
          "metadata": {},
          "execution_count": 9
        }
      ]
    },
    {
      "cell_type": "code",
      "source": [
        "import numpy as np\n",
        "\n",
        "def coinflip(N):\n",
        "  pCoinFlips = np.mean(np.random.randn(N)>0)\n",
        "  print( str(N) + ' coin flips had ' + str(pCoinFlips) + '%heads.')"
      ],
      "metadata": {
        "id": "y2ZbPcIPdLtj"
      },
      "execution_count": 38,
      "outputs": []
    },
    {
      "cell_type": "code",
      "source": [
        "coinflip(10)"
      ],
      "metadata": {
        "colab": {
          "base_uri": "https://localhost:8080/"
        },
        "id": "lDs8DaXigofJ",
        "outputId": "714d7c52-efd0-4127-ea34-a36501aa8709"
      },
      "execution_count": 39,
      "outputs": [
        {
          "output_type": "stream",
          "name": "stdout",
          "text": [
            "10 coin flips had 0.4%heads.\n"
          ]
        }
      ]
    },
    {
      "cell_type": "code",
      "source": [
        ""
      ],
      "metadata": {
        "id": "qFx3oaf0gsNN"
      },
      "execution_count": null,
      "outputs": []
    }
  ]
}