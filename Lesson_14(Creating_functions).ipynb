{
  "nbformat": 4,
  "nbformat_minor": 0,
  "metadata": {
    "colab": {
      "name": "Lesson_14(Creating functions).ipynb",
      "provenance": [],
      "authorship_tag": "ABX9TyMtaDlyGFyuW/dhrXnHwwF2",
      "include_colab_link": true
    },
    "kernelspec": {
      "name": "python3",
      "display_name": "Python 3"
    },
    "language_info": {
      "name": "python"
    }
  },
  "cells": [
    {
      "cell_type": "markdown",
      "metadata": {
        "id": "view-in-github",
        "colab_type": "text"
      },
      "source": [
        "<a href=\"https://colab.research.google.com/github/sowang2022/Functions/blob/main/Lesson_14(Creating_functions).ipynb\" target=\"_parent\"><img src=\"https://colab.research.google.com/assets/colab-badge.svg\" alt=\"Open In Colab\"/></a>"
      ]
    },
    {
      "cell_type": "code",
      "execution_count": null,
      "metadata": {
        "id": "_IHL_napvzpX"
      },
      "outputs": [],
      "source": [
        "def awesomeFunction():\n",
        "  print(1+1)"
      ]
    },
    {
      "cell_type": "code",
      "source": [
        "output = awesomeFunction()\n",
        "print(output)"
      ],
      "metadata": {
        "colab": {
          "base_uri": "https://localhost:8080/"
        },
        "id": "V-N0s1_6wKLR",
        "outputId": "a34ea1ca-3aef-4b5e-be70-53d1f00c41fe"
      },
      "execution_count": null,
      "outputs": [
        {
          "output_type": "stream",
          "name": "stdout",
          "text": [
            "2\n",
            "None\n"
          ]
        }
      ]
    },
    {
      "cell_type": "code",
      "source": [
        "def superAwesomeFunction(input1,input2):\n",
        "  return input1 + input2"
      ],
      "metadata": {
        "id": "QUWnv2bxwVSn"
      },
      "execution_count": null,
      "outputs": []
    },
    {
      "cell_type": "code",
      "source": [
        "superAwesomeFunction(4,8)"
      ],
      "metadata": {
        "colab": {
          "base_uri": "https://localhost:8080/"
        },
        "id": "yWYuspTNwlzY",
        "outputId": "5758d811-7d12-4c5c-9139-0ce843ee8e73"
      },
      "execution_count": null,
      "outputs": [
        {
          "output_type": "execute_result",
          "data": {
            "text/plain": [
              "12"
            ]
          },
          "metadata": {},
          "execution_count": 6
        }
      ]
    },
    {
      "cell_type": "code",
      "source": [
        "output = superAwesomeFunction(1,1)\n",
        "output"
      ],
      "metadata": {
        "colab": {
          "base_uri": "https://localhost:8080/"
        },
        "id": "BBpA_S5vwoDD",
        "outputId": "5db59c40-1cc7-44ae-f1d0-c28422e4a4d6"
      },
      "execution_count": null,
      "outputs": [
        {
          "output_type": "execute_result",
          "data": {
            "text/plain": [
              "2"
            ]
          },
          "metadata": {},
          "execution_count": 9
        }
      ]
    },
    {
      "cell_type": "code",
      "source": [
        "def funfun(in1,in2):\n",
        "  sumres = in1 + in2\n",
        "  prodres = in1*in2\n",
        "  print('Their sum is ' + str(sumres))\n",
        "  print('Their product is ' + str(prodres))\n",
        "  return sumres,prodres"
      ],
      "metadata": {
        "id": "Kx-TQ9mcxDVn"
      },
      "execution_count": null,
      "outputs": []
    },
    {
      "cell_type": "code",
      "source": [
        "outS,outP = funfun(4,4)\n",
        "\n",
        "print(outS,outP)"
      ],
      "metadata": {
        "colab": {
          "base_uri": "https://localhost:8080/"
        },
        "id": "AllrJfDMxm51",
        "outputId": "716250e8-056a-40a7-d3ee-5493790e95f1"
      },
      "execution_count": null,
      "outputs": [
        {
          "output_type": "stream",
          "name": "stdout",
          "text": [
            "Their sum is 8\n",
            "Their product is 16\n",
            "8 16\n"
          ]
        }
      ]
    },
    {
      "cell_type": "code",
      "source": [
        "# lambda functions\n",
        "littlefun = lambda x : x**2 - 1\n",
        "\n",
        "littlefun(4)"
      ],
      "metadata": {
        "colab": {
          "base_uri": "https://localhost:8080/"
        },
        "id": "9ibdgqaFxxmV",
        "outputId": "c8fd3167-d14e-474a-f1e6-d27a5917010d"
      },
      "execution_count": null,
      "outputs": [
        {
          "output_type": "execute_result",
          "data": {
            "text/plain": [
              "15"
            ]
          },
          "metadata": {},
          "execution_count": 19
        }
      ]
    },
    {
      "cell_type": "code",
      "source": [
        "# exercise\n",
        "# create a function that computes a factorial of an integer\n",
        "#5! = 5*4*3*2*1\n",
        "import numpy as np"
      ],
      "metadata": {
        "id": "AonEPCc-y3cu"
      },
      "execution_count": null,
      "outputs": []
    },
    {
      "cell_type": "code",
      "source": [
        "def function(i1):\n",
        "  return np.prod(np.arange(1,i1+1))"
      ],
      "metadata": {
        "id": "5akgPSTuzU6g"
      },
      "execution_count": null,
      "outputs": []
    },
    {
      "cell_type": "code",
      "source": [
        "import math\n",
        "\n",
        "function(8)"
      ],
      "metadata": {
        "colab": {
          "base_uri": "https://localhost:8080/"
        },
        "id": "UDT0SIzk0OWd",
        "outputId": "c747ecde-c7dd-4ffa-ff34-5406afe5b462"
      },
      "execution_count": null,
      "outputs": [
        {
          "output_type": "execute_result",
          "data": {
            "text/plain": [
              "40320"
            ]
          },
          "metadata": {},
          "execution_count": 37
        }
      ]
    },
    {
      "cell_type": "code",
      "source": [
        "k = 10\n",
        "print(math.factorial(k), function(k))"
      ],
      "metadata": {
        "colab": {
          "base_uri": "https://localhost:8080/"
        },
        "id": "fVxc44UD0fu4",
        "outputId": "a3787513-6c7a-4af6-8302-f7db4cc76aa3"
      },
      "execution_count": 45,
      "outputs": [
        {
          "output_type": "stream",
          "name": "stdout",
          "text": [
            "3628800 3628800\n"
          ]
        }
      ]
    },
    {
      "cell_type": "code",
      "source": [
        ""
      ],
      "metadata": {
        "id": "SW6diUnY1SJI"
      },
      "execution_count": null,
      "outputs": []
    }
  ]
}