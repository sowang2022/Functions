{
  "nbformat": 4,
  "nbformat_minor": 0,
  "metadata": {
    "colab": {
      "name": "Lesson_13(Getting Help On Python)ipynb",
      "provenance": [],
      "authorship_tag": "ABX9TyNmrYMcS773mc+JwmPd0RLO",
      "include_colab_link": true
    },
    "kernelspec": {
      "name": "python3",
      "display_name": "Python 3"
    },
    "language_info": {
      "name": "python"
    }
  },
  "cells": [
    {
      "cell_type": "markdown",
      "metadata": {
        "id": "view-in-github",
        "colab_type": "text"
      },
      "source": [
        "<a href=\"https://colab.research.google.com/github/sowang2022/Functions/blob/main/Lesson_13(Getting_Help_On_Python)ipynb.ipynb\" target=\"_parent\"><img src=\"https://colab.research.google.com/assets/colab-badge.svg\" alt=\"Open In Colab\"/></a>"
      ]
    },
    {
      "cell_type": "code",
      "execution_count": 4,
      "metadata": {
        "colab": {
          "base_uri": "https://localhost:8080/"
        },
        "id": "yxqxFczhUboE",
        "outputId": "273b349a-a39a-42e0-a294-77aed32d7583"
      },
      "outputs": [
        {
          "output_type": "execute_result",
          "data": {
            "text/plain": [
              "0"
            ]
          },
          "metadata": {},
          "execution_count": 4
        }
      ],
      "source": [
        "alist = [1,2,3]\n",
        "\n",
        "sum(alist,-6)"
      ]
    },
    {
      "cell_type": "code",
      "source": [
        "sum??"
      ],
      "metadata": {
        "id": "fEsmxFkQVI8n"
      },
      "execution_count": 6,
      "outputs": []
    },
    {
      "cell_type": "code",
      "source": [
        "help(sum)"
      ],
      "metadata": {
        "colab": {
          "base_uri": "https://localhost:8080/"
        },
        "id": "3Bnwm2TTVgcN",
        "outputId": "c7668e9a-a1b0-48f0-aef2-3601608ff925"
      },
      "execution_count": 8,
      "outputs": [
        {
          "output_type": "stream",
          "name": "stdout",
          "text": [
            "Help on built-in function sum in module builtins:\n",
            "\n",
            "sum(iterable, start=0, /)\n",
            "    Return the sum of a 'start' value (default: 0) plus an iterable of numbers\n",
            "    \n",
            "    When the iterable is empty, return the start value.\n",
            "    This function is intended specifically for use with numeric values and may\n",
            "    reject non-numeric types.\n",
            "\n"
          ]
        }
      ]
    },
    {
      "cell_type": "code",
      "source": [
        "import numpy as np\n",
        "import inspect\n",
        "\n",
        "inspect.getsourcelines(np.linspace)\n"
      ],
      "metadata": {
        "colab": {
          "base_uri": "https://localhost:8080/"
        },
        "id": "WoqbvkFMVmz7",
        "outputId": "9979a344-0de3-4136-e392-c9ac95b9d88f"
      },
      "execution_count": 13,
      "outputs": [
        {
          "output_type": "execute_result",
          "data": {
            "text/plain": [
              "(['@array_function_dispatch(_linspace_dispatcher)\\n',\n",
              "  'def linspace(start, stop, num=50, endpoint=True, retstep=False, dtype=None,\\n',\n",
              "  '             axis=0):\\n',\n",
              "  '    \"\"\"\\n',\n",
              "  '    Return evenly spaced numbers over a specified interval.\\n',\n",
              "  '\\n',\n",
              "  '    Returns `num` evenly spaced samples, calculated over the\\n',\n",
              "  '    interval [`start`, `stop`].\\n',\n",
              "  '\\n',\n",
              "  '    The endpoint of the interval can optionally be excluded.\\n',\n",
              "  '\\n',\n",
              "  '    .. versionchanged:: 1.16.0\\n',\n",
              "  '        Non-scalar `start` and `stop` are now supported.\\n',\n",
              "  '\\n',\n",
              "  '    .. versionchanged:: 1.20.0\\n',\n",
              "  '        Values are rounded towards ``-inf`` instead of ``0`` when an\\n',\n",
              "  '        integer ``dtype`` is specified. The old behavior can\\n',\n",
              "  '        still be obtained with ``np.linspace(start, stop, num).astype(int)``\\n',\n",
              "  '\\n',\n",
              "  '    Parameters\\n',\n",
              "  '    ----------\\n',\n",
              "  '    start : array_like\\n',\n",
              "  '        The starting value of the sequence.\\n',\n",
              "  '    stop : array_like\\n',\n",
              "  '        The end value of the sequence, unless `endpoint` is set to False.\\n',\n",
              "  '        In that case, the sequence consists of all but the last of ``num + 1``\\n',\n",
              "  '        evenly spaced samples, so that `stop` is excluded.  Note that the step\\n',\n",
              "  '        size changes when `endpoint` is False.\\n',\n",
              "  '    num : int, optional\\n',\n",
              "  '        Number of samples to generate. Default is 50. Must be non-negative.\\n',\n",
              "  '    endpoint : bool, optional\\n',\n",
              "  '        If True, `stop` is the last sample. Otherwise, it is not included.\\n',\n",
              "  '        Default is True.\\n',\n",
              "  '    retstep : bool, optional\\n',\n",
              "  '        If True, return (`samples`, `step`), where `step` is the spacing\\n',\n",
              "  '        between samples.\\n',\n",
              "  '    dtype : dtype, optional\\n',\n",
              "  '        The type of the output array.  If `dtype` is not given, the data type\\n',\n",
              "  '        is inferred from `start` and `stop`. The inferred dtype will never be\\n',\n",
              "  '        an integer; `float` is chosen even if the arguments would produce an\\n',\n",
              "  '        array of integers.\\n',\n",
              "  '\\n',\n",
              "  '        .. versionadded:: 1.9.0\\n',\n",
              "  '\\n',\n",
              "  '    axis : int, optional\\n',\n",
              "  '        The axis in the result to store the samples.  Relevant only if start\\n',\n",
              "  '        or stop are array-like.  By default (0), the samples will be along a\\n',\n",
              "  '        new axis inserted at the beginning. Use -1 to get an axis at the end.\\n',\n",
              "  '\\n',\n",
              "  '        .. versionadded:: 1.16.0\\n',\n",
              "  '\\n',\n",
              "  '    Returns\\n',\n",
              "  '    -------\\n',\n",
              "  '    samples : ndarray\\n',\n",
              "  '        There are `num` equally spaced samples in the closed interval\\n',\n",
              "  '        ``[start, stop]`` or the half-open interval ``[start, stop)``\\n',\n",
              "  '        (depending on whether `endpoint` is True or False).\\n',\n",
              "  '    step : float, optional\\n',\n",
              "  '        Only returned if `retstep` is True\\n',\n",
              "  '\\n',\n",
              "  '        Size of spacing between samples.\\n',\n",
              "  '\\n',\n",
              "  '\\n',\n",
              "  '    See Also\\n',\n",
              "  '    --------\\n',\n",
              "  '    arange : Similar to `linspace`, but uses a step size (instead of the\\n',\n",
              "  '             number of samples).\\n',\n",
              "  '    geomspace : Similar to `linspace`, but with numbers spaced evenly on a log\\n',\n",
              "  '                scale (a geometric progression).\\n',\n",
              "  '    logspace : Similar to `geomspace`, but with the end points specified as\\n',\n",
              "  '               logarithms.\\n',\n",
              "  '\\n',\n",
              "  '    Examples\\n',\n",
              "  '    --------\\n',\n",
              "  '    >>> np.linspace(2.0, 3.0, num=5)\\n',\n",
              "  '    array([2.  , 2.25, 2.5 , 2.75, 3.  ])\\n',\n",
              "  '    >>> np.linspace(2.0, 3.0, num=5, endpoint=False)\\n',\n",
              "  '    array([2. ,  2.2,  2.4,  2.6,  2.8])\\n',\n",
              "  '    >>> np.linspace(2.0, 3.0, num=5, retstep=True)\\n',\n",
              "  '    (array([2.  ,  2.25,  2.5 ,  2.75,  3.  ]), 0.25)\\n',\n",
              "  '\\n',\n",
              "  '    Graphical illustration:\\n',\n",
              "  '\\n',\n",
              "  '    >>> import matplotlib.pyplot as plt\\n',\n",
              "  '    >>> N = 8\\n',\n",
              "  '    >>> y = np.zeros(N)\\n',\n",
              "  '    >>> x1 = np.linspace(0, 10, N, endpoint=True)\\n',\n",
              "  '    >>> x2 = np.linspace(0, 10, N, endpoint=False)\\n',\n",
              "  \"    >>> plt.plot(x1, y, 'o')\\n\",\n",
              "  '    [<matplotlib.lines.Line2D object at 0x...>]\\n',\n",
              "  \"    >>> plt.plot(x2, y + 0.5, 'o')\\n\",\n",
              "  '    [<matplotlib.lines.Line2D object at 0x...>]\\n',\n",
              "  '    >>> plt.ylim([-0.5, 1])\\n',\n",
              "  '    (-0.5, 1)\\n',\n",
              "  '    >>> plt.show()\\n',\n",
              "  '\\n',\n",
              "  '    \"\"\"\\n',\n",
              "  '    num = operator.index(num)\\n',\n",
              "  '    if num < 0:\\n',\n",
              "  '        raise ValueError(\"Number of samples, %s, must be non-negative.\" % num)\\n',\n",
              "  '    div = (num - 1) if endpoint else num\\n',\n",
              "  '\\n',\n",
              "  '    # Convert float/complex array scalars to float, gh-3504\\n',\n",
              "  '    # and make sure one can use variables that have an __array_interface__, gh-6634\\n',\n",
              "  '    start = asanyarray(start) * 1.0\\n',\n",
              "  '    stop  = asanyarray(stop)  * 1.0\\n',\n",
              "  '\\n',\n",
              "  '    dt = result_type(start, stop, float(num))\\n',\n",
              "  '    if dtype is None:\\n',\n",
              "  '        dtype = dt\\n',\n",
              "  '\\n',\n",
              "  '    delta = stop - start\\n',\n",
              "  '    y = _nx.arange(0, num, dtype=dt).reshape((-1,) + (1,) * ndim(delta))\\n',\n",
              "  '    # In-place multiplication y *= delta/div is faster, but prevents the multiplicant\\n',\n",
              "  '    # from overriding what class is produced, and thus prevents, e.g. use of Quantities,\\n',\n",
              "  '    # see gh-7142. Hence, we multiply in place only for standard scalar types.\\n',\n",
              "  '    _mult_inplace = _nx.isscalar(delta)\\n',\n",
              "  '    if div > 0:\\n',\n",
              "  '        step = delta / div\\n',\n",
              "  '        if _nx.any(step == 0):\\n',\n",
              "  '            # Special handling for denormal numbers, gh-5437\\n',\n",
              "  '            y /= div\\n',\n",
              "  '            if _mult_inplace:\\n',\n",
              "  '                y *= delta\\n',\n",
              "  '            else:\\n',\n",
              "  '                y = y * delta\\n',\n",
              "  '        else:\\n',\n",
              "  '            if _mult_inplace:\\n',\n",
              "  '                y *= step\\n',\n",
              "  '            else:\\n',\n",
              "  '                y = y * step\\n',\n",
              "  '    else:\\n',\n",
              "  '        # sequences with 0 items or 1 item with endpoint=True (i.e. div <= 0)\\n',\n",
              "  '        # have an undefined step\\n',\n",
              "  '        step = NaN\\n',\n",
              "  '        # Multiply with delta to allow possible override of output class.\\n',\n",
              "  '        y = y * delta\\n',\n",
              "  '\\n',\n",
              "  '    y += start\\n',\n",
              "  '\\n',\n",
              "  '    if endpoint and num > 1:\\n',\n",
              "  '        y[-1] = stop\\n',\n",
              "  '\\n',\n",
              "  '    if axis != 0:\\n',\n",
              "  '        y = _nx.moveaxis(y, 0, axis)\\n',\n",
              "  '\\n',\n",
              "  '    if _nx.issubdtype(dtype, _nx.integer):\\n',\n",
              "  '        _nx.floor(y, out=y)\\n',\n",
              "  '\\n',\n",
              "  '    if retstep:\\n',\n",
              "  '        return y.astype(dtype, copy=False), step\\n',\n",
              "  '    else:\\n',\n",
              "  '        return y.astype(dtype, copy=False)\\n'],\n",
              " 23)"
            ]
          },
          "metadata": {},
          "execution_count": 13
        }
      ]
    },
    {
      "cell_type": "code",
      "source": [
        "sum('test')"
      ],
      "metadata": {
        "colab": {
          "base_uri": "https://localhost:8080/",
          "height": 169
        },
        "id": "xwdbCCotWNfs",
        "outputId": "e33f620e-6115-4297-98d4-8039744f5ee5"
      },
      "execution_count": 17,
      "outputs": [
        {
          "output_type": "error",
          "ename": "TypeError",
          "evalue": "ignored",
          "traceback": [
            "\u001b[0;31m---------------------------------------------------------------------------\u001b[0m",
            "\u001b[0;31mTypeError\u001b[0m                                 Traceback (most recent call last)",
            "\u001b[0;32m<ipython-input-17-39cf132d9152>\u001b[0m in \u001b[0;36m<module>\u001b[0;34m()\u001b[0m\n\u001b[0;32m----> 1\u001b[0;31m \u001b[0msum\u001b[0m\u001b[0;34m(\u001b[0m\u001b[0;34m'test'\u001b[0m\u001b[0;34m)\u001b[0m\u001b[0;34m\u001b[0m\u001b[0;34m\u001b[0m\u001b[0m\n\u001b[0m",
            "\u001b[0;31mTypeError\u001b[0m: unsupported operand type(s) for +: 'int' and 'str'"
          ]
        }
      ]
    }
  ]
}